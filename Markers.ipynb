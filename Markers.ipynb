{
 "cells": [
  {
   "cell_type": "code",
   "execution_count": null,
   "metadata": {},
   "outputs": [],
   "source": [
    "from numpy.random import random\n",
    "\n",
    "from bokeh.models.markers import marker_types\n",
    "from bokeh.plotting import figure, output_file, show\n",
    "\n",
    "p = figure(title=\"Bokeh Markers\", toolbar_location=None, output_backend=\"webgl\")\n",
    "p.grid.grid_line_color = None\n",
    "p.background_fill_color = \"#eeeeee\"\n",
    "p.axis.visible = False\n",
    "p.y_range.flipped = True\n",
    "\n",
    "N = 10\n",
    "\n",
    "y = 1\n",
    "\n",
    "for i, marker in enumerate(marker_types):\n",
    "    x = i % 4\n",
    "    if x == 0:\n",
    "        y += 4\n",
    "\n",
    "    p.scatter(random(N)+2*x, random(N)+y, marker=marker, size=14,\n",
    "              line_color=\"navy\", fill_color=\"orange\", alpha=0.5)\n",
    "\n",
    "    p.text(2*x+0.5, y+2.5, text=[marker],\n",
    "           text_color=\"firebrick\", text_align=\"center\", text_font_size=\"13px\")\n",
    "\n",
    "output_file(\"markers.html\", title=\"markers.py example\")\n",
    "\n",
    "show(p)  # open a browser"
   ]
  }
 ],
 "metadata": {
  "kernelspec": {
   "display_name": "Python 3",
   "language": "python",
   "name": "python3"
  },
  "language_info": {
   "codemirror_mode": {
    "name": "ipython",
    "version": 3
   },
   "file_extension": ".py",
   "mimetype": "text/x-python",
   "name": "python",
   "nbconvert_exporter": "python",
   "pygments_lexer": "ipython3",
   "version": "3.7.6"
  }
 },
 "nbformat": 4,
 "nbformat_minor": 4
}
