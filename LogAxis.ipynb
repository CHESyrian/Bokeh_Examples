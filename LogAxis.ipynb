{
 "cells": [
  {
   "cell_type": "code",
   "execution_count": null,
   "metadata": {},
   "outputs": [],
   "source": [
    "import numpy as np\n",
    "\n",
    "from bokeh.plotting import figure, output_file, show\n",
    "\n",
    "x = np.linspace(0.1, 5, 80)\n",
    "\n",
    "p = figure(title=\"log axis example\", y_axis_type=\"log\",\n",
    "           x_range=(0, 5), y_range=(0.001, 10**22),\n",
    "           background_fill_color=\"#fafafa\")\n",
    "\n",
    "p.line(x, np.sqrt(x), legend_label=\"y=sqrt(x)\",\n",
    "       line_color=\"tomato\", line_dash=\"dashed\")\n",
    "\n",
    "p.line(x, x, legend_label=\"y=x\")\n",
    "p.circle(x, x, legend_label=\"y=x\")\n",
    "\n",
    "p.line(x, x**2, legend_label=\"y=x**2\")\n",
    "p.circle(x, x**2, legend_label=\"y=x**2\",\n",
    "         fill_color=None, line_color=\"olivedrab\")\n",
    "\n",
    "p.line(x, 10**x, legend_label=\"y=10^x\",\n",
    "       line_color=\"gold\", line_width=2)\n",
    "\n",
    "p.line(x, x**x, legend_label=\"y=x^x\",\n",
    "       line_dash=\"dotted\", line_color=\"indigo\", line_width=2)\n",
    "\n",
    "p.line(x, 10**(x**2), legend_label=\"y=10^(x^2)\",\n",
    "       line_color=\"coral\", line_dash=\"dotdash\", line_width=2)\n",
    "\n",
    "p.legend.location = \"top_left\"\n",
    "\n",
    "output_file(\"logplot.html\", title=\"log plot example\")\n",
    "\n",
    "show(p)"
   ]
  }
 ],
 "metadata": {
  "kernelspec": {
   "display_name": "Python 3",
   "language": "python",
   "name": "python3"
  },
  "language_info": {
   "codemirror_mode": {
    "name": "ipython",
    "version": 3
   },
   "file_extension": ".py",
   "mimetype": "text/x-python",
   "name": "python",
   "nbconvert_exporter": "python",
   "pygments_lexer": "ipython3",
   "version": "3.7.6"
  }
 },
 "nbformat": 4,
 "nbformat_minor": 4
}
