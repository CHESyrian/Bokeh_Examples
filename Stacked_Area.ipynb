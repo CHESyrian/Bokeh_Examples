{
 "cells": [
  {
   "cell_type": "code",
   "execution_count": null,
   "metadata": {},
   "outputs": [],
   "source": [
    "import numpy as np\n",
    "import pandas as pd\n",
    "\n",
    "from bokeh.palettes import brewer\n",
    "from bokeh.plotting import figure, output_file, show\n",
    "\n",
    "output_file('stacked_area.html')\n",
    "\n",
    "N = 10\n",
    "df = pd.DataFrame(np.random.randint(10, 100, size=(15, N))).add_prefix('y')\n",
    "\n",
    "p = figure(x_range=(0, len(df)-1), y_range=(0, 800))\n",
    "p.grid.minor_grid_line_color = '#eeeeee'\n",
    "\n",
    "names = [\"y%d\" % i for i in range(N)]\n",
    "p.varea_stack(stackers=names, x='index', color=brewer['Spectral'][N], legend_label=names, source=df)\n",
    "\n",
    "# reverse the legend entries to match the stacked order\n",
    "p.legend.items.reverse()\n",
    "\n",
    "show(p)"
   ]
  }
 ],
 "metadata": {
  "kernelspec": {
   "display_name": "Python 3",
   "language": "python",
   "name": "python3"
  },
  "language_info": {
   "codemirror_mode": {
    "name": "ipython",
    "version": 3
   },
   "file_extension": ".py",
   "mimetype": "text/x-python",
   "name": "python",
   "nbconvert_exporter": "python",
   "pygments_lexer": "ipython3",
   "version": "3.7.6"
  }
 },
 "nbformat": 4,
 "nbformat_minor": 4
}
